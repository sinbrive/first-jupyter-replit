{
 "cells": [
  {
   "cell_type": "markdown",
   "id": "3f17517b",
   "metadata": {},
   "source": [
    "\n",
    "## short cuts:\n",
    "    - insert A, B\n",
    "    - delete DD\n",
    "    - undo Z\n",
    "    - execute ctrl enter\n",
    "    - toggle line number : maj L\n"
   ]
  },
  {
   "cell_type": "code",
   "execution_count": 6,
   "id": "1f6d404e",
   "metadata": {},
   "outputs": [],
   "source": [
    "def locate(data, query):\n",
    "    for i in range(len(data)):\n",
    "        if data[i]==query:\n",
    "            return True\n",
    "    return False"
   ]
  },
  {
   "cell_type": "code",
   "execution_count": 35,
   "id": "c4d5edb3",
   "metadata": {},
   "outputs": [
    {
     "data": {
      "text/plain": [
       "True"
      ]
     },
     "execution_count": 35,
     "metadata": {},
     "output_type": "execute_result"
    }
   ],
   "source": [
    "locate([1,3,8,4,10], 10)"
   ]
  },
  {
   "cell_type": "code",
   "execution_count": 7,
   "id": "df3a9cf3",
   "metadata": {},
   "outputs": [
    {
     "data": {
      "text/plain": [
       "False"
      ]
     },
     "execution_count": 7,
     "metadata": {},
     "output_type": "execute_result"
    }
   ],
   "source": [
    "locate([1,3,8,4,10], 11)"
   ]
  },
  {
   "cell_type": "code",
   "execution_count": 30,
   "id": "e2ef981b",
   "metadata": {},
   "outputs": [],
   "source": [
    "test = {'input':{\n",
    "            'data':[1,3,8,4,10], \n",
    "            'query': 10\n",
    "       },\n",
    "        'output': True\n",
    "       }"
   ]
  },
  {
   "cell_type": "code",
   "execution_count": 22,
   "id": "ce291bf6",
   "metadata": {},
   "outputs": [
    {
     "data": {
      "text/plain": [
       "{'data': [1, 3, 8, 4, 10], 'query': 10}"
      ]
     },
     "execution_count": 22,
     "metadata": {},
     "output_type": "execute_result"
    }
   ],
   "source": [
    "test[input]"
   ]
  },
  {
   "cell_type": "code",
   "execution_count": 24,
   "id": "935e7cc7",
   "metadata": {},
   "outputs": [
    {
     "data": {
      "text/plain": [
       "{'data': [1, 3, 8, 4, 10], 'query': 10}"
      ]
     },
     "execution_count": 24,
     "metadata": {},
     "output_type": "execute_result"
    }
   ],
   "source": [
    "test[input]"
   ]
  },
  {
   "cell_type": "code",
   "execution_count": 26,
   "id": "cdc731e8",
   "metadata": {},
   "outputs": [
    {
     "data": {
      "text/plain": [
       "[1, 3, 8, 4, 10]"
      ]
     },
     "execution_count": 26,
     "metadata": {},
     "output_type": "execute_result"
    }
   ],
   "source": [
    "test[input]['data']"
   ]
  },
  {
   "cell_type": "code",
   "execution_count": 34,
   "id": "09a4a6a4",
   "metadata": {},
   "outputs": [
    {
     "data": {
      "text/plain": [
       "True"
      ]
     },
     "execution_count": 34,
     "metadata": {},
     "output_type": "execute_result"
    }
   ],
   "source": [
    "locate(test['input']['data'], test['input']['query'])"
   ]
  },
  {
   "cell_type": "code",
   "execution_count": 32,
   "id": "5272065b",
   "metadata": {
    "scrolled": true
   },
   "outputs": [
    {
     "data": {
      "text/plain": [
       "True"
      ]
     },
     "execution_count": 32,
     "metadata": {},
     "output_type": "execute_result"
    }
   ],
   "source": [
    "locate(**test['input'])"
   ]
  }
 ],
 "metadata": {
  "kernelspec": {
   "display_name": "Python 3",
   "language": "python",
   "name": "python3"
  },
  "language_info": {
   "codemirror_mode": {
    "name": "ipython",
    "version": 3
   },
   "file_extension": ".py",
   "mimetype": "text/x-python",
   "name": "python",
   "nbconvert_exporter": "python",
   "pygments_lexer": "ipython3",
   "version": "3.9.6"
  }
 },
 "nbformat": 4,
 "nbformat_minor": 5
}
