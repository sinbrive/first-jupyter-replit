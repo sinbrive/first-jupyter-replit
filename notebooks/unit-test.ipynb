{
 "cells": [
  {
   "cell_type": "markdown",
   "id": "2bc24ad9",
   "metadata": {},
   "source": [
    "\n",
    "## short cuts:\n",
    "    insert A, B\n",
    "    delete DD\n",
    "    undo Z\n",
    "    execute ctrl enter\n",
    "    toggle line number : maj L\n",
    "    \n",
    "\n",
    "\"\"\""
   ]
  },
  {
   "cell_type": "code",
   "execution_count": null,
   "id": "7ec38343",
   "metadata": {},
   "outputs": [],
   "source": []
  },
  {
   "cell_type": "code",
   "execution_count": 6,
   "id": "eccf6e43",
   "metadata": {},
   "outputs": [],
   "source": [
    "def locate(data, query):\n",
    "    for i in range(len(data)):\n",
    "        if data[i]==query:\n",
    "            return True\n",
    "    return False"
   ]
  },
  {
   "cell_type": "code",
   "execution_count": 35,
   "id": "7c69feb6",
   "metadata": {},
   "outputs": [
    {
     "data": {
      "text/plain": [
       "True"
      ]
     },
     "execution_count": 35,
     "metadata": {},
     "output_type": "execute_result"
    }
   ],
   "source": [
    "locate([1,3,8,4,10], 10)"
   ]
  },
  {
   "cell_type": "code",
   "execution_count": 7,
   "id": "e71f9276",
   "metadata": {},
   "outputs": [
    {
     "data": {
      "text/plain": [
       "False"
      ]
     },
     "execution_count": 7,
     "metadata": {},
     "output_type": "execute_result"
    }
   ],
   "source": [
    "locate([1,3,8,4,10], 11)"
   ]
  },
  {
   "cell_type": "code",
   "execution_count": 30,
   "id": "c989fd7a",
   "metadata": {},
   "outputs": [],
   "source": [
    "test = {'input':{\n",
    "            'data':[1,3,8,4,10], \n",
    "            'query': 10\n",
    "       },\n",
    "        'output': True\n",
    "       }"
   ]
  },
  {
   "cell_type": "code",
   "execution_count": 22,
   "id": "a079ed34",
   "metadata": {},
   "outputs": [
    {
     "data": {
      "text/plain": [
       "{'data': [1, 3, 8, 4, 10], 'query': 10}"
      ]
     },
     "execution_count": 22,
     "metadata": {},
     "output_type": "execute_result"
    }
   ],
   "source": [
    "test[input]"
   ]
  },
  {
   "cell_type": "code",
   "execution_count": 24,
   "id": "06e8e017",
   "metadata": {},
   "outputs": [
    {
     "data": {
      "text/plain": [
       "{'data': [1, 3, 8, 4, 10], 'query': 10}"
      ]
     },
     "execution_count": 24,
     "metadata": {},
     "output_type": "execute_result"
    }
   ],
   "source": [
    "test[input]"
   ]
  },
  {
   "cell_type": "code",
   "execution_count": 26,
   "id": "1510bafc",
   "metadata": {},
   "outputs": [
    {
     "data": {
      "text/plain": [
       "[1, 3, 8, 4, 10]"
      ]
     },
     "execution_count": 26,
     "metadata": {},
     "output_type": "execute_result"
    }
   ],
   "source": [
    "test[input]['data']"
   ]
  },
  {
   "cell_type": "code",
   "execution_count": 34,
   "id": "d997234f",
   "metadata": {},
   "outputs": [
    {
     "data": {
      "text/plain": [
       "True"
      ]
     },
     "execution_count": 34,
     "metadata": {},
     "output_type": "execute_result"
    }
   ],
   "source": [
    "locate(test['input']['data'], test['input']['query'])"
   ]
  },
  {
   "cell_type": "code",
   "execution_count": 32,
   "id": "6b3c6407",
   "metadata": {},
   "outputs": [
    {
     "data": {
      "text/plain": [
       "True"
      ]
     },
     "execution_count": 32,
     "metadata": {},
     "output_type": "execute_result"
    }
   ],
   "source": [
    "locate(**test['input'])"
   ]
  },
  {
   "cell_type": "code",
   "execution_count": 38,
   "id": "f0292341",
   "metadata": {},
   "outputs": [
    {
     "data": {
      "text/plain": [
       "7"
      ]
     },
     "execution_count": 38,
     "metadata": {},
     "output_type": "execute_result"
    }
   ],
   "source": [
    "7"
   ]
  }
 ],
 "metadata": {
  "kernelspec": {
   "display_name": "Python 3",
   "language": "python",
   "name": "python3"
  },
  "language_info": {
   "codemirror_mode": {
    "name": "ipython",
    "version": 3
   },
   "file_extension": ".py",
   "mimetype": "text/x-python",
   "name": "python",
   "nbconvert_exporter": "python",
   "pygments_lexer": "ipython3",
   "version": "3.9.6"
  }
 },
 "nbformat": 4,
 "nbformat_minor": 5
}
