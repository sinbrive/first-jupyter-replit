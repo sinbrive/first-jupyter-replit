{
 "cells": [
  {
   "cell_type": "code",
   "execution_count": 6,
   "id": "f71808f2",
   "metadata": {},
   "outputs": [],
   "source": [
    "def locate(data, query):\n",
    "    for i in range(len(data)):\n",
    "        if data[i]==query:\n",
    "            return True\n",
    "    return False"
   ]
  },
  {
   "cell_type": "code",
   "execution_count": 4,
   "id": "66f93c34",
   "metadata": {},
   "outputs": [
    {
     "data": {
      "text/plain": [
       "True"
      ]
     },
     "execution_count": 4,
     "metadata": {},
     "output_type": "execute_result"
    }
   ],
   "source": [
    "locate([1,3,8,4,10], 10)"
   ]
  },
  {
   "cell_type": "code",
   "execution_count": 7,
   "id": "2f567681",
   "metadata": {},
   "outputs": [
    {
     "data": {
      "text/plain": [
       "False"
      ]
     },
     "execution_count": 7,
     "metadata": {},
     "output_type": "execute_result"
    }
   ],
   "source": [
    "locate([1,3,8,4,10], 11)"
   ]
  },
  {
   "cell_type": "code",
   "execution_count": 30,
   "id": "efa4054e",
   "metadata": {},
   "outputs": [],
   "source": [
    "test = {'input':{\n",
    "            'data':[1,3,8,4,10], \n",
    "            'query': 10\n",
    "       },\n",
    "        'output': True\n",
    "       }"
   ]
  },
  {
   "cell_type": "code",
   "execution_count": 22,
   "id": "d215842c",
   "metadata": {},
   "outputs": [
    {
     "data": {
      "text/plain": [
       "{'data': [1, 3, 8, 4, 10], 'query': 10}"
      ]
     },
     "execution_count": 22,
     "metadata": {},
     "output_type": "execute_result"
    }
   ],
   "source": [
    "test[input]"
   ]
  },
  {
   "cell_type": "code",
   "execution_count": 24,
   "id": "9c086af0",
   "metadata": {},
   "outputs": [
    {
     "data": {
      "text/plain": [
       "{'data': [1, 3, 8, 4, 10], 'query': 10}"
      ]
     },
     "execution_count": 24,
     "metadata": {},
     "output_type": "execute_result"
    }
   ],
   "source": [
    "test[input]"
   ]
  },
  {
   "cell_type": "code",
   "execution_count": 26,
   "id": "4fd9e735",
   "metadata": {},
   "outputs": [
    {
     "data": {
      "text/plain": [
       "[1, 3, 8, 4, 10]"
      ]
     },
     "execution_count": 26,
     "metadata": {},
     "output_type": "execute_result"
    }
   ],
   "source": [
    "test[input]['data']"
   ]
  },
  {
   "cell_type": "code",
   "execution_count": 34,
   "id": "9b302fd9",
   "metadata": {},
   "outputs": [
    {
     "data": {
      "text/plain": [
       "True"
      ]
     },
     "execution_count": 34,
     "metadata": {},
     "output_type": "execute_result"
    }
   ],
   "source": [
    "locate(test['input']['data'], test['input']['query'])"
   ]
  },
  {
   "cell_type": "code",
   "execution_count": 32,
   "id": "7417644f",
   "metadata": {},
   "outputs": [
    {
     "data": {
      "text/plain": [
       "True"
      ]
     },
     "execution_count": 32,
     "metadata": {},
     "output_type": "execute_result"
    }
   ],
   "source": [
    "locate(**test['input'])"
   ]
  },
  {
   "cell_type": "code",
   "execution_count": null,
   "id": "371e9e3b",
   "metadata": {},
   "outputs": [],
   "source": []
  }
 ],
 "metadata": {
  "kernelspec": {
   "display_name": "Python 3",
   "language": "python",
   "name": "python3"
  },
  "language_info": {
   "codemirror_mode": {
    "name": "ipython",
    "version": 3
   },
   "file_extension": ".py",
   "mimetype": "text/x-python",
   "name": "python",
   "nbconvert_exporter": "python",
   "pygments_lexer": "ipython3",
   "version": "3.9.6"
  }
 },
 "nbformat": 4,
 "nbformat_minor": 5
}
