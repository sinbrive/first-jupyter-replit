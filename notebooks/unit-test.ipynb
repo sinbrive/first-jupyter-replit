{
 "cells": [
  {
   "cell_type": "markdown",
   "id": "02ef3984",
   "metadata": {},
   "source": [
    "\n",
    "## short cuts:\n",
    "    - insert A, B\n",
    "    - delete DD\n",
    "    - undo Z\n",
    "    - execute ctrl enter\n",
    "    - toggle line number : maj L\n"
   ]
  },
  {
   "cell_type": "code",
   "execution_count": 6,
   "id": "f428ecf6",
   "metadata": {},
   "outputs": [],
   "source": [
    "def locate(data, query):\n",
    "    for i in range(len(data)):\n",
    "        if data[i]==query:\n",
    "            return True\n",
    "    return False"
   ]
  },
  {
   "cell_type": "code",
   "execution_count": 35,
   "id": "97557ae5",
   "metadata": {},
   "outputs": [
    {
     "data": {
      "text/plain": [
       "True"
      ]
     },
     "execution_count": 35,
     "metadata": {},
     "output_type": "execute_result"
    }
   ],
   "source": [
    "locate([1,3,8,4,10], 10)"
   ]
  },
  {
   "cell_type": "code",
   "execution_count": 7,
   "id": "0de78ac8",
   "metadata": {},
   "outputs": [
    {
     "data": {
      "text/plain": [
       "False"
      ]
     },
     "execution_count": 7,
     "metadata": {},
     "output_type": "execute_result"
    }
   ],
   "source": [
    "locate([1,3,8,4,10], 11)"
   ]
  },
  {
   "cell_type": "code",
   "execution_count": 30,
   "id": "c3bd0c00",
   "metadata": {},
   "outputs": [],
   "source": [
    "test = {'input':{\n",
    "            'data':[1,3,8,4,10], \n",
    "            'query': 10\n",
    "       },\n",
    "        'output': True\n",
    "       }"
   ]
  },
  {
   "cell_type": "code",
   "execution_count": 22,
   "id": "ba4e0e10",
   "metadata": {},
   "outputs": [
    {
     "data": {
      "text/plain": [
       "{'data': [1, 3, 8, 4, 10], 'query': 10}"
      ]
     },
     "execution_count": 22,
     "metadata": {},
     "output_type": "execute_result"
    }
   ],
   "source": [
    "test[input]"
   ]
  },
  {
   "cell_type": "code",
   "execution_count": 24,
   "id": "3d345e09",
   "metadata": {},
   "outputs": [
    {
     "data": {
      "text/plain": [
       "{'data': [1, 3, 8, 4, 10], 'query': 10}"
      ]
     },
     "execution_count": 24,
     "metadata": {},
     "output_type": "execute_result"
    }
   ],
   "source": [
    "test[input]"
   ]
  },
  {
   "cell_type": "code",
   "execution_count": 26,
   "id": "2f9c3a13",
   "metadata": {},
   "outputs": [
    {
     "data": {
      "text/plain": [
       "[1, 3, 8, 4, 10]"
      ]
     },
     "execution_count": 26,
     "metadata": {},
     "output_type": "execute_result"
    }
   ],
   "source": [
    "test[input]['data']"
   ]
  },
  {
   "cell_type": "code",
   "execution_count": 34,
   "id": "a940e02e",
   "metadata": {},
   "outputs": [
    {
     "data": {
      "text/plain": [
       "True"
      ]
     },
     "execution_count": 34,
     "metadata": {},
     "output_type": "execute_result"
    }
   ],
   "source": [
    "locate(test['input']['data'], test['input']['query'])"
   ]
  },
  {
   "cell_type": "code",
   "execution_count": 32,
   "id": "078d8a52",
   "metadata": {
    "scrolled": true
   },
   "outputs": [
    {
     "data": {
      "text/plain": [
       "True"
      ]
     },
     "execution_count": 32,
     "metadata": {},
     "output_type": "execute_result"
    }
   ],
   "source": [
    "locate(**test['input'])"
   ]
  },
  {
   "cell_type": "code",
   "execution_count": 39,
   "id": "68c9ad56",
   "metadata": {},
   "outputs": [
    {
     "name": "stdout",
     "output_type": "stream",
     "text": [
      "\u001b[31m    ERROR: Command errored out with exit status 1:\n",
      "     command: /nix/store/nki9ywqzbvz68vr75kn2r7g1q84f5agy-python3-3.9.6/bin/python3.9 -u -c 'import io, os, sys, setuptools, tokenize; sys.argv[0] = '\"'\"'/tmp/pip-install-2g4oyjbi/uuid_ba46727338574d25bd4e4662b26dd80a/setup.py'\"'\"'; __file__='\"'\"'/tmp/pip-install-2g4oyjbi/uuid_ba46727338574d25bd4e4662b26dd80a/setup.py'\"'\"';f = getattr(tokenize, '\"'\"'open'\"'\"', open)(__file__) if os.path.exists(__file__) else io.StringIO('\"'\"'from setuptools import setup; setup()'\"'\"');code = f.read().replace('\"'\"'\\r\\n'\"'\"', '\"'\"'\\n'\"'\"');f.close();exec(compile(code, __file__, '\"'\"'exec'\"'\"'))' install --record /tmp/pip-record-95jxixjg/install-record.txt --single-version-externally-managed --compile --install-headers /nix/store/nki9ywqzbvz68vr75kn2r7g1q84f5agy-python3-3.9.6/include/python3.9/uuid\n",
      "         cwd: /tmp/pip-install-2g4oyjbi/uuid_ba46727338574d25bd4e4662b26dd80a/\n",
      "    Complete output (9 lines):\n",
      "    running install\n",
      "    running build\n",
      "    running build_py\n",
      "    creating build\n",
      "    creating build/lib\n",
      "    copying uuid.py -> build/lib\n",
      "    running install_lib\n",
      "    copying build/lib/uuid.py -> /nix/store/nki9ywqzbvz68vr75kn2r7g1q84f5agy-python3-3.9.6/lib/python3.9/site-packages\n",
      "    error: could not create '/nix/store/nki9ywqzbvz68vr75kn2r7g1q84f5agy-python3-3.9.6/lib/python3.9/site-packages/uuid.py': Permission denied\n",
      "    ----------------------------------------\u001b[0m\n",
      "\u001b[31mERROR: Command errored out with exit status 1: /nix/store/nki9ywqzbvz68vr75kn2r7g1q84f5agy-python3-3.9.6/bin/python3.9 -u -c 'import io, os, sys, setuptools, tokenize; sys.argv[0] = '\"'\"'/tmp/pip-install-2g4oyjbi/uuid_ba46727338574d25bd4e4662b26dd80a/setup.py'\"'\"'; __file__='\"'\"'/tmp/pip-install-2g4oyjbi/uuid_ba46727338574d25bd4e4662b26dd80a/setup.py'\"'\"';f = getattr(tokenize, '\"'\"'open'\"'\"', open)(__file__) if os.path.exists(__file__) else io.StringIO('\"'\"'from setuptools import setup; setup()'\"'\"');code = f.read().replace('\"'\"'\\r\\n'\"'\"', '\"'\"'\\n'\"'\"');f.close();exec(compile(code, __file__, '\"'\"'exec'\"'\"'))' install --record /tmp/pip-record-95jxixjg/install-record.txt --single-version-externally-managed --compile --install-headers /nix/store/nki9ywqzbvz68vr75kn2r7g1q84f5agy-python3-3.9.6/include/python3.9/uuid Check the logs for full command output.\u001b[0m\n",
      "\u001b[33mWARNING: You are using pip version 21.1.3; however, version 22.0.4 is available.\n",
      "You should consider upgrading via the '/nix/store/nki9ywqzbvz68vr75kn2r7g1q84f5agy-python3-3.9.6/bin/python3.9 -m pip install --upgrade pip' command.\u001b[0m\n"
     ]
    }
   ],
   "source": [
    "!pip install jovian --upgrade --quiet"
   ]
  },
  {
   "cell_type": "code",
   "execution_count": 40,
   "id": "00c042bc",
   "metadata": {},
   "outputs": [
    {
     "ename": "ModuleNotFoundError",
     "evalue": "No module named 'jovian'",
     "output_type": "error",
     "traceback": [
      "\u001b[0;31m---------------------------------------------------------------------------\u001b[0m",
      "\u001b[0;31mModuleNotFoundError\u001b[0m                       Traceback (most recent call last)",
      "\u001b[0;32m<ipython-input-40-4d54bcfffcdf>\u001b[0m in \u001b[0;36m<module>\u001b[0;34m\u001b[0m\n\u001b[0;32m----> 1\u001b[0;31m \u001b[0;32mfrom\u001b[0m \u001b[0mjovian\u001b[0m\u001b[0;34m.\u001b[0m\u001b[0mpythondsa\u001b[0m \u001b[0;32mimport\u001b[0m \u001b[0mevaluate_test_case\u001b[0m\u001b[0;34m\u001b[0m\u001b[0;34m\u001b[0m\u001b[0m\n\u001b[0m",
      "\u001b[0;31mModuleNotFoundError\u001b[0m: No module named 'jovian'"
     ]
    }
   ],
   "source": [
    "from jovian.pythondsa import evaluate_test_case"
   ]
  },
  {
   "cell_type": "code",
   "execution_count": null,
   "id": "c72fbda6",
   "metadata": {},
   "outputs": [],
   "source": []
  }
 ],
 "metadata": {
  "kernelspec": {
   "display_name": "Python 3",
   "language": "python",
   "name": "python3"
  },
  "language_info": {
   "codemirror_mode": {
    "name": "ipython",
    "version": 3
   },
   "file_extension": ".py",
   "mimetype": "text/x-python",
   "name": "python",
   "nbconvert_exporter": "python",
   "pygments_lexer": "ipython3",
   "version": "3.9.6"
  }
 },
 "nbformat": 4,
 "nbformat_minor": 5
}
